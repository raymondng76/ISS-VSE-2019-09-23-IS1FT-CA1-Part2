{
 "cells": [
  {
   "cell_type": "markdown",
   "metadata": {},
   "source": [
    "# RTAVS CA1 Part2 PartB"
   ]
  },
  {
   "cell_type": "markdown",
   "metadata": {},
   "source": [
    "### Team\n",
    "Kenneth Goh Chia Wei : A0198544N  \n",
    "Tan Heng Han : A0198502B  \n",
    "Raymond Ng Boon Cheong : A0198543R"
   ]
  },
  {
   "cell_type": "code",
   "execution_count": 1,
   "metadata": {},
   "outputs": [],
   "source": [
    "import cv2\n",
    "import numpy as np"
   ]
  },
  {
   "cell_type": "code",
   "execution_count": 2,
   "metadata": {},
   "outputs": [],
   "source": [
    "videopath       = 'ironman.mp4'\n",
    "outpath         = 'ssd_ironman.mp4'\n",
    "prototxt        = 'MobileNetSSD_deploy.prototxt'\n",
    "caffemodel      = 'MobileNetSSD_deploy.caffemodel'\n",
    "scoreThres      = 0.5"
   ]
  },
  {
   "cell_type": "code",
   "execution_count": 3,
   "metadata": {},
   "outputs": [],
   "source": [
    "classNames      = {0: 'background',\n",
    "                   1: 'aeroplane', \n",
    "                   2: 'bicycle', \n",
    "                   3: 'bird', \n",
    "                   4: 'boat',\n",
    "                   5: 'bottle', \n",
    "                   6: 'bus', \n",
    "                   7: 'car', \n",
    "                   8: 'cat', \n",
    "                   9: 'chair',\n",
    "                   10: 'cow', \n",
    "                   11: 'diningtable', \n",
    "                   12: 'dog', \n",
    "                   13: 'horse',\n",
    "                   14: 'motorbike', \n",
    "                   15: 'person', \n",
    "                   16: 'pottedplant',\n",
    "                   17: 'sheep', \n",
    "                   18: 'sofa', \n",
    "                   19: 'train', \n",
    "                   20: 'tvmonitor'}"
   ]
  },
  {
   "cell_type": "code",
   "execution_count": 4,
   "metadata": {},
   "outputs": [],
   "source": [
    "net             = cv2.dnn.readNetFromCaffe(prototxt,\n",
    "                                           caffemodel)"
   ]
  },
  {
   "cell_type": "code",
   "execution_count": 5,
   "metadata": {},
   "outputs": [
    {
     "name": "stdout",
     "output_type": "stream",
     "text": [
      "Analyzing video ...\n"
     ]
    }
   ],
   "source": [
    "print(\"Analyzing video ...\")\n",
    "vs              = cv2.VideoCapture(videopath)\n",
    "fps             = vs.get(cv2.CAP_PROP_FPS)\n",
    "W               = int(vs.get(cv2.CAP_PROP_FRAME_WIDTH))\n",
    "H               = int(vs.get(cv2.CAP_PROP_FRAME_HEIGHT))\n",
    "writer          = None"
   ]
  },
  {
   "cell_type": "code",
   "execution_count": null,
   "metadata": {},
   "outputs": [],
   "source": [
    "while True:\n",
    "    (grabbed, frame) = vs.read()\n",
    "\n",
    "    if not grabbed:\n",
    "        break\n",
    "\n",
    "    output = frame.copy()    \n",
    "    blob = cv2.dnn.blobFromImage(image=frame, \n",
    "                                scalefactor=0.007843,\n",
    "                                size=(300, 300), \n",
    "                                mean=(127.5, 127.5, 127.5), \n",
    "                                swapRB=False)\n",
    "                                # The shape of the blob is (1,3,300,300)\n",
    "    rows = blob.shape[2]\n",
    "    cols = blob.shape[3]\n",
    "    net.setInput(blob)\n",
    "\n",
    "    pred = net.forward()\n",
    "                                # The output of pred is (1,1,n,7)\n",
    "                                #   n is the number of objects detected\n",
    "                                \n",
    "    numOfObjects = pred.shape[2] # The number of objects detected\n",
    "    \n",
    "    all_classes = []\n",
    "    all_confidences = []\n",
    "    all_boxes = []\n",
    "    \n",
    "    for i in range(numOfObjects):\n",
    "        confidence      = pred[0, 0, i, 2]      # confidence score\n",
    "        \n",
    "        if confidence > scoreThres: \n",
    "            classId     = int(pred[0, 0, i, 1]) # Class label\n",
    "\n",
    "                                                # Object location \n",
    "            x1          = int(pred[0, 0, i, 3] * cols) \n",
    "            y1          = int(pred[0, 0, i, 4] * rows)\n",
    "            x2          = int(pred[0, 0, i, 5] * cols)\n",
    "            y2          = int(pred[0, 0, i, 6] * rows)\n",
    "            \n",
    "                                                # Factor for scaling\n",
    "            hFactor     = H/300.0  \n",
    "            wFactor     = W/300.0\n",
    "            \n",
    "                                                # Rescale the positions\n",
    "            x1          = int(wFactor*x1) \n",
    "            y1          = int(hFactor*y1)\n",
    "            x2          = int(wFactor*x2)\n",
    "            y2          = int(hFactor*y2)\n",
    "            \n",
    "            x           = x1\n",
    "            y           = y1\n",
    "            w           = x2-x1\n",
    "            h           = y2-y1\n",
    "            \n",
    "            all_classes.append(classId)\n",
    "            all_confidences.append(float(confidence))\n",
    "            all_boxes.append([x,y,w,h])\n",
    "    \n",
    "    selected = cv2.dnn.NMSBoxes(bboxes=all_boxes,\n",
    "                               scores=all_confidences,\n",
    "                               score_threshold=scoreThres,\n",
    "                               nms_threshold=0.4)\n",
    "    \n",
    "    for s in selected:\n",
    "        s = s[0]\n",
    "        box = all_boxes[s]\n",
    "        x = int(box[0])\n",
    "        y = int(box[1])\n",
    "        w = int(box[2])\n",
    "        h = int(box[3])\n",
    "        \n",
    "        txtlbl      = \"{} : {:.2f}\".format(classNames[all_classes[s]],\n",
    "                                           all_confidences[s])\n",
    "        txtsize     = cv2.getTextSize(txtlbl,\n",
    "                                      cv2.FONT_HERSHEY_SIMPLEX,\n",
    "                                      0.5,\n",
    "                                      1)\n",
    "        bsize       = txtsize[0]\n",
    "        bsline      = txtsize[1]\n",
    "        cv2.rectangle(output,          # draw bounding box\n",
    "                      (x,y),\n",
    "                      (x+w,y+h),\n",
    "                      (0, 255, 0),\n",
    "                      2)\n",
    "        cv2.rectangle(output,          # draw text box\n",
    "                      (x-1,y),\n",
    "                      (x+bsize[0],y+bsize[1]+bsline),\n",
    "                      (0, 255, 0),\n",
    "                      -1)\n",
    "        cv2.putText(output,\n",
    "                    txtlbl,\n",
    "                    (x-1,y+bsize[1]),\n",
    "                    cv2.FONT_HERSHEY_SIMPLEX,\n",
    "                    0.5,\n",
    "                    (0, 0, 0),\n",
    "                    1,\n",
    "                    cv2.LINE_AA)\n",
    "    if writer is None:\n",
    "        fourcc = cv2.VideoWriter_fourcc(*\"X264\")\n",
    "                                            # Use X264 encoder to encode video into\n",
    "                                            #   H.264 encoding standard\n",
    "        writer = cv2.VideoWriter(outpath,\n",
    "                                 fourcc,\n",
    "                                 fps,\n",
    "                                 (W, H),\n",
    "                                 True)\n",
    "\n",
    "                            # Write the output frame to disk\n",
    "    writer.write(output)        \n",
    "    cv2.imshow(\"SSD detection\",output)\n",
    "    \n",
    "    if cv2.waitKey(1) >= 0:  # Break with ESC \n",
    "        break\n",
    "print(\"Closing ...\")\n",
    "writer.release()\n",
    "vs.release()"
   ]
  },
  {
   "cell_type": "code",
   "execution_count": null,
   "metadata": {},
   "outputs": [],
   "source": []
  }
 ],
 "metadata": {
  "kernelspec": {
   "display_name": "Python 3",
   "language": "python",
   "name": "python3"
  },
  "language_info": {
   "codemirror_mode": {
    "name": "ipython",
    "version": 3
   },
   "file_extension": ".py",
   "mimetype": "text/x-python",
   "name": "python",
   "nbconvert_exporter": "python",
   "pygments_lexer": "ipython3",
   "version": "3.6.9"
  }
 },
 "nbformat": 4,
 "nbformat_minor": 4
}
